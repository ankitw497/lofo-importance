{
 "cells": [
  {
   "cell_type": "code",
   "execution_count": null,
   "metadata": {
    "ExecuteTime": {
     "end_time": "2019-01-14T12:48:04.450500Z",
     "start_time": "2019-01-14T12:48:03.586150Z"
    }
   },
   "outputs": [],
   "source": [
    "# !pip3 install scikit-learn"
   ]
  },
  {
   "cell_type": "code",
   "execution_count": null,
   "metadata": {},
   "outputs": [],
   "source": [
    "# !pip3 uninstall -y lightgbm \n",
    "# !pip3 install lightgbm"
   ]
  },
  {
   "cell_type": "code",
   "execution_count": 1,
   "metadata": {},
   "outputs": [
    {
     "name": "stderr",
     "output_type": "stream",
     "text": [
      "/Users/ankitwahane/ankitw497 github/lofo-importance/lofo/lofo_importance.py:3: TqdmExperimentalWarning: Using `tqdm.autonotebook.tqdm` in notebook mode. Use `tqdm.tqdm` instead to force console mode (e.g. in jupyter console)\n",
      "  from tqdm.autonotebook import tqdm\n"
     ]
    }
   ],
   "source": [
    "import numpy as np\n",
    "import pandas as pd\n",
    "from sklearn.datasets import make_classification\n",
    "from sklearn.preprocessing import OneHotEncoder,MinMaxScaler\n",
    "from sklearn.linear_model import LinearRegression, LogisticRegression\n",
    "from sklearn.ensemble import RandomForestClassifier\n",
    "from sklearn.model_selection import KFold\n",
    "from lofo import LOFOImportance, FLOFOImportance, Dataset, plot_importance\n",
    "from sklearn.metrics import make_scorer, f1_score\n",
    "from data.test_data import generate_test_data, generate_unstructured_test_data\n",
    "import gc"
   ]
  },
  {
   "cell_type": "code",
   "execution_count": 2,
   "metadata": {
    "ExecuteTime": {
     "end_time": "2019-01-14T12:48:04.513904Z",
     "start_time": "2019-01-14T12:48:04.453322Z"
    }
   },
   "outputs": [
    {
     "name": "stderr",
     "output_type": "stream",
     "text": [
      "/Users/ankitwahane/Library/Python/3.9/lib/python/site-packages/sklearn/preprocessing/_encoders.py:868: FutureWarning: `sparse` was renamed to `sparse_output` in version 1.2 and will be removed in 1.4. `sparse_output` is ignored unless you leave `sparse` to its default value.\n",
      "  warnings.warn(\n"
     ]
    },
    {
     "data": {
      "text/html": [
       "<div>\n",
       "<style scoped>\n",
       "    .dataframe tbody tr th:only-of-type {\n",
       "        vertical-align: middle;\n",
       "    }\n",
       "\n",
       "    .dataframe tbody tr th {\n",
       "        vertical-align: top;\n",
       "    }\n",
       "\n",
       "    .dataframe thead th {\n",
       "        text-align: right;\n",
       "    }\n",
       "</style>\n",
       "<table border=\"1\" class=\"dataframe\">\n",
       "  <thead>\n",
       "    <tr style=\"text-align: right;\">\n",
       "      <th></th>\n",
       "      <th>feature_2</th>\n",
       "      <th>feature_3</th>\n",
       "      <th>feature_4</th>\n",
       "      <th>feature_5</th>\n",
       "      <th>feature_6</th>\n",
       "      <th>feature_7</th>\n",
       "      <th>feature_8</th>\n",
       "      <th>feature_9</th>\n",
       "      <th>feature_10</th>\n",
       "      <th>feature_11</th>\n",
       "      <th>...</th>\n",
       "      <th>feature_95</th>\n",
       "      <th>feature_96</th>\n",
       "      <th>feature_97</th>\n",
       "      <th>feature_98</th>\n",
       "      <th>feature_99</th>\n",
       "      <th>target</th>\n",
       "      <th>feature_0_high</th>\n",
       "      <th>feature_0_low</th>\n",
       "      <th>feature_1_high</th>\n",
       "      <th>feature_1_low</th>\n",
       "    </tr>\n",
       "  </thead>\n",
       "  <tbody>\n",
       "    <tr>\n",
       "      <th>0</th>\n",
       "      <td>47.722401</td>\n",
       "      <td>0.000000</td>\n",
       "      <td>0.000000</td>\n",
       "      <td>0.000000</td>\n",
       "      <td>0.0</td>\n",
       "      <td>45.947408</td>\n",
       "      <td>40.196609</td>\n",
       "      <td>48.261393</td>\n",
       "      <td>0.0</td>\n",
       "      <td>74.144483</td>\n",
       "      <td>...</td>\n",
       "      <td>0.000000</td>\n",
       "      <td>0.000000</td>\n",
       "      <td>0.000000</td>\n",
       "      <td>0.000000</td>\n",
       "      <td>0.000000</td>\n",
       "      <td>0</td>\n",
       "      <td>0.0</td>\n",
       "      <td>1.0</td>\n",
       "      <td>0.0</td>\n",
       "      <td>1.0</td>\n",
       "    </tr>\n",
       "    <tr>\n",
       "      <th>1</th>\n",
       "      <td>0.000000</td>\n",
       "      <td>0.000000</td>\n",
       "      <td>58.461513</td>\n",
       "      <td>0.000000</td>\n",
       "      <td>0.0</td>\n",
       "      <td>52.833007</td>\n",
       "      <td>0.000000</td>\n",
       "      <td>0.000000</td>\n",
       "      <td>0.0</td>\n",
       "      <td>0.000000</td>\n",
       "      <td>...</td>\n",
       "      <td>0.000000</td>\n",
       "      <td>61.469354</td>\n",
       "      <td>60.600476</td>\n",
       "      <td>48.028057</td>\n",
       "      <td>49.092541</td>\n",
       "      <td>0</td>\n",
       "      <td>0.0</td>\n",
       "      <td>1.0</td>\n",
       "      <td>1.0</td>\n",
       "      <td>0.0</td>\n",
       "    </tr>\n",
       "    <tr>\n",
       "      <th>2</th>\n",
       "      <td>0.000000</td>\n",
       "      <td>54.864942</td>\n",
       "      <td>46.748569</td>\n",
       "      <td>0.000000</td>\n",
       "      <td>0.0</td>\n",
       "      <td>35.785280</td>\n",
       "      <td>0.000000</td>\n",
       "      <td>0.000000</td>\n",
       "      <td>0.0</td>\n",
       "      <td>51.341374</td>\n",
       "      <td>...</td>\n",
       "      <td>0.000000</td>\n",
       "      <td>42.134671</td>\n",
       "      <td>0.000000</td>\n",
       "      <td>63.304027</td>\n",
       "      <td>0.000000</td>\n",
       "      <td>1</td>\n",
       "      <td>0.0</td>\n",
       "      <td>1.0</td>\n",
       "      <td>0.0</td>\n",
       "      <td>1.0</td>\n",
       "    </tr>\n",
       "    <tr>\n",
       "      <th>3</th>\n",
       "      <td>0.000000</td>\n",
       "      <td>54.285962</td>\n",
       "      <td>75.548895</td>\n",
       "      <td>55.214799</td>\n",
       "      <td>0.0</td>\n",
       "      <td>0.000000</td>\n",
       "      <td>29.526191</td>\n",
       "      <td>0.000000</td>\n",
       "      <td>0.0</td>\n",
       "      <td>0.000000</td>\n",
       "      <td>...</td>\n",
       "      <td>57.295981</td>\n",
       "      <td>41.066785</td>\n",
       "      <td>0.000000</td>\n",
       "      <td>61.872817</td>\n",
       "      <td>20.940964</td>\n",
       "      <td>1</td>\n",
       "      <td>0.0</td>\n",
       "      <td>1.0</td>\n",
       "      <td>0.0</td>\n",
       "      <td>1.0</td>\n",
       "    </tr>\n",
       "    <tr>\n",
       "      <th>4</th>\n",
       "      <td>0.000000</td>\n",
       "      <td>61.342581</td>\n",
       "      <td>0.000000</td>\n",
       "      <td>38.055779</td>\n",
       "      <td>0.0</td>\n",
       "      <td>0.000000</td>\n",
       "      <td>33.686711</td>\n",
       "      <td>0.000000</td>\n",
       "      <td>0.0</td>\n",
       "      <td>50.115391</td>\n",
       "      <td>...</td>\n",
       "      <td>0.000000</td>\n",
       "      <td>0.000000</td>\n",
       "      <td>0.000000</td>\n",
       "      <td>41.626554</td>\n",
       "      <td>52.136270</td>\n",
       "      <td>0</td>\n",
       "      <td>0.0</td>\n",
       "      <td>1.0</td>\n",
       "      <td>1.0</td>\n",
       "      <td>0.0</td>\n",
       "    </tr>\n",
       "  </tbody>\n",
       "</table>\n",
       "<p>5 rows × 103 columns</p>\n",
       "</div>"
      ],
      "text/plain": [
       "   feature_2  feature_3  feature_4  feature_5  feature_6  feature_7  \\\n",
       "0  47.722401   0.000000   0.000000   0.000000        0.0  45.947408   \n",
       "1   0.000000   0.000000  58.461513   0.000000        0.0  52.833007   \n",
       "2   0.000000  54.864942  46.748569   0.000000        0.0  35.785280   \n",
       "3   0.000000  54.285962  75.548895  55.214799        0.0   0.000000   \n",
       "4   0.000000  61.342581   0.000000  38.055779        0.0   0.000000   \n",
       "\n",
       "   feature_8  feature_9  feature_10  feature_11  ...  feature_95  feature_96  \\\n",
       "0  40.196609  48.261393         0.0   74.144483  ...    0.000000    0.000000   \n",
       "1   0.000000   0.000000         0.0    0.000000  ...    0.000000   61.469354   \n",
       "2   0.000000   0.000000         0.0   51.341374  ...    0.000000   42.134671   \n",
       "3  29.526191   0.000000         0.0    0.000000  ...   57.295981   41.066785   \n",
       "4  33.686711   0.000000         0.0   50.115391  ...    0.000000    0.000000   \n",
       "\n",
       "   feature_97  feature_98  feature_99  target  feature_0_high  feature_0_low  \\\n",
       "0    0.000000    0.000000    0.000000       0             0.0            1.0   \n",
       "1   60.600476   48.028057   49.092541       0             0.0            1.0   \n",
       "2    0.000000   63.304027    0.000000       1             0.0            1.0   \n",
       "3    0.000000   61.872817   20.940964       1             0.0            1.0   \n",
       "4    0.000000   41.626554   52.136270       0             0.0            1.0   \n",
       "\n",
       "   feature_1_high  feature_1_low  \n",
       "0             0.0            1.0  \n",
       "1             1.0            0.0  \n",
       "2             0.0            1.0  \n",
       "3             0.0            1.0  \n",
       "4             1.0            0.0  \n",
       "\n",
       "[5 rows x 103 columns]"
      ]
     },
     "execution_count": 2,
     "metadata": {},
     "output_type": "execute_result"
    }
   ],
   "source": [
    "np.random.seed(42)\n",
    "\n",
    "# Generate a synthetic dataset with 3000 samples, 10 features, and 3 classes\n",
    "X, y = make_classification(n_samples=3000, n_features=100, n_informative=10, n_redundant=10, n_classes=2, random_state=42)\n",
    "\n",
    "\n",
    "# Scale the features to the range 0 to 100\n",
    "scaler = MinMaxScaler(feature_range=(0, 100))\n",
    "X_scaled = scaler.fit_transform(X)\n",
    "\n",
    "# Introduce sparsity by setting some of the numerical features to zero\n",
    "sparsity_level = 0.6  # 30% of the data will be zero\n",
    "mask = np.random.rand(*X_scaled.shape) < sparsity_level\n",
    "X_scaled[mask] = 0\n",
    "\n",
    "# Convert to DataFrame\n",
    "df = pd.DataFrame(X_scaled, columns=[f\"feature_{i}\" for i in range(100)])\n",
    "df['target'] = y\n",
    "\n",
    "# Let's assume feature_0 and feature_1 are categorical for this example\n",
    "# Convert these features to categorical type\n",
    "df['feature_0'] = pd.cut(df['feature_0'], bins=2, labels=[\"low\", \"high\"])\n",
    "df['feature_1'] = pd.cut(df['feature_1'], bins=2, labels=[\"low\", \"high\"])\n",
    "\n",
    "# One-hot encode the categorical features\n",
    "encoder = OneHotEncoder(sparse=False)\n",
    "encoded_features = encoder.fit_transform(df[['feature_0', 'feature_1']])\n",
    "\n",
    "# Create a DataFrame with the encoded features\n",
    "encoded_df = pd.DataFrame(encoded_features, columns=encoder.get_feature_names_out(['feature_0', 'feature_1']))\n",
    "\n",
    "# Drop the original categorical columns and concatenate the one-hot encoded columns\n",
    "df = df.drop(columns=['feature_0', 'feature_1'])\n",
    "df = pd.concat([df, encoded_df], axis=1)\n",
    "\n",
    "df.head()"
   ]
  },
  {
   "cell_type": "code",
   "execution_count": 3,
   "metadata": {},
   "outputs": [
    {
     "data": {
      "text/plain": [
       "Index(['feature_2', 'feature_3', 'feature_4', 'feature_5', 'feature_6',\n",
       "       'feature_7', 'feature_8', 'feature_9', 'feature_10', 'feature_11',\n",
       "       ...\n",
       "       'feature_95', 'feature_96', 'feature_97', 'feature_98', 'feature_99',\n",
       "       'target', 'feature_0_high', 'feature_0_low', 'feature_1_high',\n",
       "       'feature_1_low'],\n",
       "      dtype='object', length=103)"
      ]
     },
     "execution_count": 3,
     "metadata": {},
     "output_type": "execute_result"
    }
   ],
   "source": [
    "df.columns"
   ]
  },
  {
   "cell_type": "markdown",
   "metadata": {},
   "source": [
    "### Running on Logistic Regression"
   ]
  },
  {
   "cell_type": "code",
   "execution_count": 4,
   "metadata": {},
   "outputs": [],
   "source": [
    "# Define the function\n",
    "def run_importance_calculations(df, target, features, model_name ,n_runs=1000):\n",
    "    scorer = make_scorer(f1_score, pos_label=1)\n",
    "    # cv = KFold(n_splits=4, shuffle=True, random_state=0)\n",
    "    cv = 4\n",
    "    dataset = Dataset(df=df, target=target, features=features)\n",
    "    importance_means = []\n",
    "\n",
    "    for _ in range(n_runs):\n",
    "        fi = LOFOImportance(dataset, scoring=scorer, model=model_name, cv=cv)\n",
    "        importances = fi.get_importance()\n",
    "        importance_means.append(importances['importance_mean'].values)\n",
    "        del fi\n",
    "        gc.collect()\n",
    "\n",
    "    importance_means = np.array(importance_means)\n",
    "    \n",
    "    # Check if the same importance mean for each feature was generated\n",
    "    same_means = np.all(importance_means == importance_means[0], axis=0)\n",
    "\n",
    "    # Convert results to a DataFrame for better visualization\n",
    "    results_df = pd.DataFrame(importance_means, columns=features)\n",
    "    \n",
    "    return results_df,same_means"
   ]
  },
  {
   "cell_type": "code",
   "execution_count": 5,
   "metadata": {},
   "outputs": [
    {
     "data": {
      "application/vnd.jupyter.widget-view+json": {
       "model_id": "67bface516d94c87be4f6be41833c7ee",
       "version_major": 2,
       "version_minor": 0
      },
      "text/plain": [
       "  0%|          | 0/102 [00:00<?, ?it/s]"
      ]
     },
     "metadata": {},
     "output_type": "display_data"
    },
    {
     "data": {
      "application/vnd.jupyter.widget-view+json": {
       "model_id": "cc7f2737ed7c448fa7bba23032f93f6c",
       "version_major": 2,
       "version_minor": 0
      },
      "text/plain": [
       "  0%|          | 0/102 [00:00<?, ?it/s]"
      ]
     },
     "metadata": {},
     "output_type": "display_data"
    },
    {
     "data": {
      "application/vnd.jupyter.widget-view+json": {
       "model_id": "865d3eacc91f4a989411731c3266e2ed",
       "version_major": 2,
       "version_minor": 0
      },
      "text/plain": [
       "  0%|          | 0/102 [00:00<?, ?it/s]"
      ]
     },
     "metadata": {},
     "output_type": "display_data"
    },
    {
     "data": {
      "application/vnd.jupyter.widget-view+json": {
       "model_id": "cdec59f8ce5a48d1ad7081435305b75c",
       "version_major": 2,
       "version_minor": 0
      },
      "text/plain": [
       "  0%|          | 0/102 [00:00<?, ?it/s]"
      ]
     },
     "metadata": {},
     "output_type": "display_data"
    },
    {
     "data": {
      "application/vnd.jupyter.widget-view+json": {
       "model_id": "d0221bfb1e7d48259643cabcf650be89",
       "version_major": 2,
       "version_minor": 0
      },
      "text/plain": [
       "  0%|          | 0/102 [00:00<?, ?it/s]"
      ]
     },
     "metadata": {},
     "output_type": "display_data"
    }
   ],
   "source": [
    "results_df,same_means = run_importance_calculations(df=df,\n",
    "                                                    target='target',\n",
    "                                                    features=[x for x in df.columns if x != 'target'],\n",
    "                                                    model_name =LogisticRegression(),\n",
    "                                                    n_runs=5)"
   ]
  },
  {
   "cell_type": "code",
   "execution_count": 6,
   "metadata": {},
   "outputs": [
    {
     "data": {
      "text/html": [
       "<div>\n",
       "<style scoped>\n",
       "    .dataframe tbody tr th:only-of-type {\n",
       "        vertical-align: middle;\n",
       "    }\n",
       "\n",
       "    .dataframe tbody tr th {\n",
       "        vertical-align: top;\n",
       "    }\n",
       "\n",
       "    .dataframe thead th {\n",
       "        text-align: right;\n",
       "    }\n",
       "</style>\n",
       "<table border=\"1\" class=\"dataframe\">\n",
       "  <thead>\n",
       "    <tr style=\"text-align: right;\">\n",
       "      <th></th>\n",
       "      <th>feature_2</th>\n",
       "      <th>feature_3</th>\n",
       "      <th>feature_4</th>\n",
       "      <th>feature_5</th>\n",
       "      <th>feature_6</th>\n",
       "      <th>feature_7</th>\n",
       "      <th>feature_8</th>\n",
       "      <th>feature_9</th>\n",
       "      <th>feature_10</th>\n",
       "      <th>feature_11</th>\n",
       "      <th>...</th>\n",
       "      <th>feature_94</th>\n",
       "      <th>feature_95</th>\n",
       "      <th>feature_96</th>\n",
       "      <th>feature_97</th>\n",
       "      <th>feature_98</th>\n",
       "      <th>feature_99</th>\n",
       "      <th>feature_0_high</th>\n",
       "      <th>feature_0_low</th>\n",
       "      <th>feature_1_high</th>\n",
       "      <th>feature_1_low</th>\n",
       "    </tr>\n",
       "  </thead>\n",
       "  <tbody>\n",
       "    <tr>\n",
       "      <th>0</th>\n",
       "      <td>0.011173</td>\n",
       "      <td>0.008403</td>\n",
       "      <td>0.006706</td>\n",
       "      <td>0.005005</td>\n",
       "      <td>0.004935</td>\n",
       "      <td>0.004708</td>\n",
       "      <td>0.004572</td>\n",
       "      <td>0.004489</td>\n",
       "      <td>0.004242</td>\n",
       "      <td>0.00397</td>\n",
       "      <td>...</td>\n",
       "      <td>-0.003653</td>\n",
       "      <td>-0.003847</td>\n",
       "      <td>-0.004071</td>\n",
       "      <td>-0.004106</td>\n",
       "      <td>-0.004393</td>\n",
       "      <td>-0.004568</td>\n",
       "      <td>-0.004641</td>\n",
       "      <td>-0.004865</td>\n",
       "      <td>-0.006021</td>\n",
       "      <td>-0.007685</td>\n",
       "    </tr>\n",
       "    <tr>\n",
       "      <th>1</th>\n",
       "      <td>0.011173</td>\n",
       "      <td>0.008403</td>\n",
       "      <td>0.006706</td>\n",
       "      <td>0.005005</td>\n",
       "      <td>0.004935</td>\n",
       "      <td>0.004708</td>\n",
       "      <td>0.004572</td>\n",
       "      <td>0.004489</td>\n",
       "      <td>0.004242</td>\n",
       "      <td>0.00397</td>\n",
       "      <td>...</td>\n",
       "      <td>-0.003653</td>\n",
       "      <td>-0.003847</td>\n",
       "      <td>-0.004071</td>\n",
       "      <td>-0.004106</td>\n",
       "      <td>-0.004393</td>\n",
       "      <td>-0.004568</td>\n",
       "      <td>-0.004641</td>\n",
       "      <td>-0.004865</td>\n",
       "      <td>-0.006021</td>\n",
       "      <td>-0.007685</td>\n",
       "    </tr>\n",
       "    <tr>\n",
       "      <th>2</th>\n",
       "      <td>0.011173</td>\n",
       "      <td>0.008403</td>\n",
       "      <td>0.006706</td>\n",
       "      <td>0.005005</td>\n",
       "      <td>0.004935</td>\n",
       "      <td>0.004708</td>\n",
       "      <td>0.004572</td>\n",
       "      <td>0.004489</td>\n",
       "      <td>0.004242</td>\n",
       "      <td>0.00397</td>\n",
       "      <td>...</td>\n",
       "      <td>-0.003653</td>\n",
       "      <td>-0.003847</td>\n",
       "      <td>-0.004071</td>\n",
       "      <td>-0.004106</td>\n",
       "      <td>-0.004393</td>\n",
       "      <td>-0.004568</td>\n",
       "      <td>-0.004641</td>\n",
       "      <td>-0.004865</td>\n",
       "      <td>-0.006021</td>\n",
       "      <td>-0.007685</td>\n",
       "    </tr>\n",
       "    <tr>\n",
       "      <th>3</th>\n",
       "      <td>0.011173</td>\n",
       "      <td>0.008403</td>\n",
       "      <td>0.006706</td>\n",
       "      <td>0.005005</td>\n",
       "      <td>0.004935</td>\n",
       "      <td>0.004708</td>\n",
       "      <td>0.004572</td>\n",
       "      <td>0.004489</td>\n",
       "      <td>0.004242</td>\n",
       "      <td>0.00397</td>\n",
       "      <td>...</td>\n",
       "      <td>-0.003653</td>\n",
       "      <td>-0.003847</td>\n",
       "      <td>-0.004071</td>\n",
       "      <td>-0.004106</td>\n",
       "      <td>-0.004393</td>\n",
       "      <td>-0.004568</td>\n",
       "      <td>-0.004641</td>\n",
       "      <td>-0.004865</td>\n",
       "      <td>-0.006021</td>\n",
       "      <td>-0.007685</td>\n",
       "    </tr>\n",
       "    <tr>\n",
       "      <th>4</th>\n",
       "      <td>0.011173</td>\n",
       "      <td>0.008403</td>\n",
       "      <td>0.006706</td>\n",
       "      <td>0.005005</td>\n",
       "      <td>0.004935</td>\n",
       "      <td>0.004708</td>\n",
       "      <td>0.004572</td>\n",
       "      <td>0.004489</td>\n",
       "      <td>0.004242</td>\n",
       "      <td>0.00397</td>\n",
       "      <td>...</td>\n",
       "      <td>-0.003653</td>\n",
       "      <td>-0.003847</td>\n",
       "      <td>-0.004071</td>\n",
       "      <td>-0.004106</td>\n",
       "      <td>-0.004393</td>\n",
       "      <td>-0.004568</td>\n",
       "      <td>-0.004641</td>\n",
       "      <td>-0.004865</td>\n",
       "      <td>-0.006021</td>\n",
       "      <td>-0.007685</td>\n",
       "    </tr>\n",
       "  </tbody>\n",
       "</table>\n",
       "<p>5 rows × 102 columns</p>\n",
       "</div>"
      ],
      "text/plain": [
       "   feature_2  feature_3  feature_4  feature_5  feature_6  feature_7  \\\n",
       "0   0.011173   0.008403   0.006706   0.005005   0.004935   0.004708   \n",
       "1   0.011173   0.008403   0.006706   0.005005   0.004935   0.004708   \n",
       "2   0.011173   0.008403   0.006706   0.005005   0.004935   0.004708   \n",
       "3   0.011173   0.008403   0.006706   0.005005   0.004935   0.004708   \n",
       "4   0.011173   0.008403   0.006706   0.005005   0.004935   0.004708   \n",
       "\n",
       "   feature_8  feature_9  feature_10  feature_11  ...  feature_94  feature_95  \\\n",
       "0   0.004572   0.004489    0.004242     0.00397  ...   -0.003653   -0.003847   \n",
       "1   0.004572   0.004489    0.004242     0.00397  ...   -0.003653   -0.003847   \n",
       "2   0.004572   0.004489    0.004242     0.00397  ...   -0.003653   -0.003847   \n",
       "3   0.004572   0.004489    0.004242     0.00397  ...   -0.003653   -0.003847   \n",
       "4   0.004572   0.004489    0.004242     0.00397  ...   -0.003653   -0.003847   \n",
       "\n",
       "   feature_96  feature_97  feature_98  feature_99  feature_0_high  \\\n",
       "0   -0.004071   -0.004106   -0.004393   -0.004568       -0.004641   \n",
       "1   -0.004071   -0.004106   -0.004393   -0.004568       -0.004641   \n",
       "2   -0.004071   -0.004106   -0.004393   -0.004568       -0.004641   \n",
       "3   -0.004071   -0.004106   -0.004393   -0.004568       -0.004641   \n",
       "4   -0.004071   -0.004106   -0.004393   -0.004568       -0.004641   \n",
       "\n",
       "   feature_0_low  feature_1_high  feature_1_low  \n",
       "0      -0.004865       -0.006021      -0.007685  \n",
       "1      -0.004865       -0.006021      -0.007685  \n",
       "2      -0.004865       -0.006021      -0.007685  \n",
       "3      -0.004865       -0.006021      -0.007685  \n",
       "4      -0.004865       -0.006021      -0.007685  \n",
       "\n",
       "[5 rows x 102 columns]"
      ]
     },
     "execution_count": 6,
     "metadata": {},
     "output_type": "execute_result"
    }
   ],
   "source": [
    "results_df"
   ]
  },
  {
   "cell_type": "code",
   "execution_count": 7,
   "metadata": {},
   "outputs": [
    {
     "data": {
      "text/plain": [
       "array([ True,  True,  True,  True,  True,  True,  True,  True,  True,\n",
       "        True,  True,  True,  True,  True,  True,  True,  True,  True,\n",
       "        True,  True,  True,  True,  True,  True,  True,  True,  True,\n",
       "        True,  True,  True,  True,  True,  True,  True,  True,  True,\n",
       "        True,  True,  True,  True,  True,  True,  True,  True,  True,\n",
       "        True,  True,  True,  True,  True,  True,  True,  True,  True,\n",
       "        True,  True,  True,  True,  True,  True,  True,  True,  True,\n",
       "        True,  True,  True,  True,  True,  True,  True,  True,  True,\n",
       "        True,  True,  True,  True,  True,  True,  True,  True,  True,\n",
       "        True,  True,  True,  True,  True,  True,  True,  True,  True,\n",
       "        True,  True,  True,  True,  True,  True,  True,  True,  True,\n",
       "        True,  True,  True])"
      ]
     },
     "execution_count": 7,
     "metadata": {},
     "output_type": "execute_result"
    }
   ],
   "source": [
    "same_means"
   ]
  },
  {
   "cell_type": "code",
   "execution_count": 8,
   "metadata": {},
   "outputs": [
    {
     "data": {
      "application/vnd.jupyter.widget-view+json": {
       "model_id": "4f13f1b77e144356b4a95fcdbf803236",
       "version_major": 2,
       "version_minor": 0
      },
      "text/plain": [
       "  0%|          | 0/102 [00:00<?, ?it/s]"
      ]
     },
     "metadata": {},
     "output_type": "display_data"
    },
    {
     "data": {
      "application/vnd.jupyter.widget-view+json": {
       "model_id": "eaf2dbfda2ce4640b2d37904d770377f",
       "version_major": 2,
       "version_minor": 0
      },
      "text/plain": [
       "  0%|          | 0/102 [00:00<?, ?it/s]"
      ]
     },
     "metadata": {},
     "output_type": "display_data"
    },
    {
     "data": {
      "application/vnd.jupyter.widget-view+json": {
       "model_id": "2280d8cad5ee4fb8a2e1dc5178b71f37",
       "version_major": 2,
       "version_minor": 0
      },
      "text/plain": [
       "  0%|          | 0/102 [00:00<?, ?it/s]"
      ]
     },
     "metadata": {},
     "output_type": "display_data"
    },
    {
     "data": {
      "application/vnd.jupyter.widget-view+json": {
       "model_id": "b69db8a94aae4911a6d6f0b10860c76f",
       "version_major": 2,
       "version_minor": 0
      },
      "text/plain": [
       "  0%|          | 0/102 [00:00<?, ?it/s]"
      ]
     },
     "metadata": {},
     "output_type": "display_data"
    },
    {
     "data": {
      "application/vnd.jupyter.widget-view+json": {
       "model_id": "a247f74ca49e4818a509971153cf57f7",
       "version_major": 2,
       "version_minor": 0
      },
      "text/plain": [
       "  0%|          | 0/102 [00:00<?, ?it/s]"
      ]
     },
     "metadata": {},
     "output_type": "display_data"
    }
   ],
   "source": [
    "results_df_2,same_means_2 = run_importance_calculations(df=df,\n",
    "                                                    target='target',\n",
    "                                                    features=[x for x in df.columns if x != 'target'],\n",
    "                                                    model_name =RandomForestClassifier(n_estimators=50,random_state=42),\n",
    "                                                    n_runs=5)"
   ]
  },
  {
   "cell_type": "code",
   "execution_count": 9,
   "metadata": {},
   "outputs": [
    {
     "data": {
      "text/html": [
       "<div>\n",
       "<style scoped>\n",
       "    .dataframe tbody tr th:only-of-type {\n",
       "        vertical-align: middle;\n",
       "    }\n",
       "\n",
       "    .dataframe tbody tr th {\n",
       "        vertical-align: top;\n",
       "    }\n",
       "\n",
       "    .dataframe thead th {\n",
       "        text-align: right;\n",
       "    }\n",
       "</style>\n",
       "<table border=\"1\" class=\"dataframe\">\n",
       "  <thead>\n",
       "    <tr style=\"text-align: right;\">\n",
       "      <th></th>\n",
       "      <th>feature_2</th>\n",
       "      <th>feature_3</th>\n",
       "      <th>feature_4</th>\n",
       "      <th>feature_5</th>\n",
       "      <th>feature_6</th>\n",
       "      <th>feature_7</th>\n",
       "      <th>feature_8</th>\n",
       "      <th>feature_9</th>\n",
       "      <th>feature_10</th>\n",
       "      <th>feature_11</th>\n",
       "      <th>...</th>\n",
       "      <th>feature_94</th>\n",
       "      <th>feature_95</th>\n",
       "      <th>feature_96</th>\n",
       "      <th>feature_97</th>\n",
       "      <th>feature_98</th>\n",
       "      <th>feature_99</th>\n",
       "      <th>feature_0_high</th>\n",
       "      <th>feature_0_low</th>\n",
       "      <th>feature_1_high</th>\n",
       "      <th>feature_1_low</th>\n",
       "    </tr>\n",
       "  </thead>\n",
       "  <tbody>\n",
       "    <tr>\n",
       "      <th>0</th>\n",
       "      <td>0.028262</td>\n",
       "      <td>0.022092</td>\n",
       "      <td>0.021738</td>\n",
       "      <td>0.021607</td>\n",
       "      <td>0.02139</td>\n",
       "      <td>0.018448</td>\n",
       "      <td>0.016876</td>\n",
       "      <td>0.016458</td>\n",
       "      <td>0.015739</td>\n",
       "      <td>0.01341</td>\n",
       "      <td>...</td>\n",
       "      <td>-0.002974</td>\n",
       "      <td>-0.003193</td>\n",
       "      <td>-0.003284</td>\n",
       "      <td>-0.003762</td>\n",
       "      <td>-0.004123</td>\n",
       "      <td>-0.004672</td>\n",
       "      <td>-0.005635</td>\n",
       "      <td>-0.009029</td>\n",
       "      <td>-0.009747</td>\n",
       "      <td>-0.01328</td>\n",
       "    </tr>\n",
       "    <tr>\n",
       "      <th>1</th>\n",
       "      <td>0.028262</td>\n",
       "      <td>0.022092</td>\n",
       "      <td>0.021738</td>\n",
       "      <td>0.021607</td>\n",
       "      <td>0.02139</td>\n",
       "      <td>0.018448</td>\n",
       "      <td>0.016876</td>\n",
       "      <td>0.016458</td>\n",
       "      <td>0.015739</td>\n",
       "      <td>0.01341</td>\n",
       "      <td>...</td>\n",
       "      <td>-0.002974</td>\n",
       "      <td>-0.003193</td>\n",
       "      <td>-0.003284</td>\n",
       "      <td>-0.003762</td>\n",
       "      <td>-0.004123</td>\n",
       "      <td>-0.004672</td>\n",
       "      <td>-0.005635</td>\n",
       "      <td>-0.009029</td>\n",
       "      <td>-0.009747</td>\n",
       "      <td>-0.01328</td>\n",
       "    </tr>\n",
       "    <tr>\n",
       "      <th>2</th>\n",
       "      <td>0.028262</td>\n",
       "      <td>0.022092</td>\n",
       "      <td>0.021738</td>\n",
       "      <td>0.021607</td>\n",
       "      <td>0.02139</td>\n",
       "      <td>0.018448</td>\n",
       "      <td>0.016876</td>\n",
       "      <td>0.016458</td>\n",
       "      <td>0.015739</td>\n",
       "      <td>0.01341</td>\n",
       "      <td>...</td>\n",
       "      <td>-0.002974</td>\n",
       "      <td>-0.003193</td>\n",
       "      <td>-0.003284</td>\n",
       "      <td>-0.003762</td>\n",
       "      <td>-0.004123</td>\n",
       "      <td>-0.004672</td>\n",
       "      <td>-0.005635</td>\n",
       "      <td>-0.009029</td>\n",
       "      <td>-0.009747</td>\n",
       "      <td>-0.01328</td>\n",
       "    </tr>\n",
       "    <tr>\n",
       "      <th>3</th>\n",
       "      <td>0.028262</td>\n",
       "      <td>0.022092</td>\n",
       "      <td>0.021738</td>\n",
       "      <td>0.021607</td>\n",
       "      <td>0.02139</td>\n",
       "      <td>0.018448</td>\n",
       "      <td>0.016876</td>\n",
       "      <td>0.016458</td>\n",
       "      <td>0.015739</td>\n",
       "      <td>0.01341</td>\n",
       "      <td>...</td>\n",
       "      <td>-0.002974</td>\n",
       "      <td>-0.003193</td>\n",
       "      <td>-0.003284</td>\n",
       "      <td>-0.003762</td>\n",
       "      <td>-0.004123</td>\n",
       "      <td>-0.004672</td>\n",
       "      <td>-0.005635</td>\n",
       "      <td>-0.009029</td>\n",
       "      <td>-0.009747</td>\n",
       "      <td>-0.01328</td>\n",
       "    </tr>\n",
       "    <tr>\n",
       "      <th>4</th>\n",
       "      <td>0.028262</td>\n",
       "      <td>0.022092</td>\n",
       "      <td>0.021738</td>\n",
       "      <td>0.021607</td>\n",
       "      <td>0.02139</td>\n",
       "      <td>0.018448</td>\n",
       "      <td>0.016876</td>\n",
       "      <td>0.016458</td>\n",
       "      <td>0.015739</td>\n",
       "      <td>0.01341</td>\n",
       "      <td>...</td>\n",
       "      <td>-0.002974</td>\n",
       "      <td>-0.003193</td>\n",
       "      <td>-0.003284</td>\n",
       "      <td>-0.003762</td>\n",
       "      <td>-0.004123</td>\n",
       "      <td>-0.004672</td>\n",
       "      <td>-0.005635</td>\n",
       "      <td>-0.009029</td>\n",
       "      <td>-0.009747</td>\n",
       "      <td>-0.01328</td>\n",
       "    </tr>\n",
       "  </tbody>\n",
       "</table>\n",
       "<p>5 rows × 102 columns</p>\n",
       "</div>"
      ],
      "text/plain": [
       "   feature_2  feature_3  feature_4  feature_5  feature_6  feature_7  \\\n",
       "0   0.028262   0.022092   0.021738   0.021607    0.02139   0.018448   \n",
       "1   0.028262   0.022092   0.021738   0.021607    0.02139   0.018448   \n",
       "2   0.028262   0.022092   0.021738   0.021607    0.02139   0.018448   \n",
       "3   0.028262   0.022092   0.021738   0.021607    0.02139   0.018448   \n",
       "4   0.028262   0.022092   0.021738   0.021607    0.02139   0.018448   \n",
       "\n",
       "   feature_8  feature_9  feature_10  feature_11  ...  feature_94  feature_95  \\\n",
       "0   0.016876   0.016458    0.015739     0.01341  ...   -0.002974   -0.003193   \n",
       "1   0.016876   0.016458    0.015739     0.01341  ...   -0.002974   -0.003193   \n",
       "2   0.016876   0.016458    0.015739     0.01341  ...   -0.002974   -0.003193   \n",
       "3   0.016876   0.016458    0.015739     0.01341  ...   -0.002974   -0.003193   \n",
       "4   0.016876   0.016458    0.015739     0.01341  ...   -0.002974   -0.003193   \n",
       "\n",
       "   feature_96  feature_97  feature_98  feature_99  feature_0_high  \\\n",
       "0   -0.003284   -0.003762   -0.004123   -0.004672       -0.005635   \n",
       "1   -0.003284   -0.003762   -0.004123   -0.004672       -0.005635   \n",
       "2   -0.003284   -0.003762   -0.004123   -0.004672       -0.005635   \n",
       "3   -0.003284   -0.003762   -0.004123   -0.004672       -0.005635   \n",
       "4   -0.003284   -0.003762   -0.004123   -0.004672       -0.005635   \n",
       "\n",
       "   feature_0_low  feature_1_high  feature_1_low  \n",
       "0      -0.009029       -0.009747       -0.01328  \n",
       "1      -0.009029       -0.009747       -0.01328  \n",
       "2      -0.009029       -0.009747       -0.01328  \n",
       "3      -0.009029       -0.009747       -0.01328  \n",
       "4      -0.009029       -0.009747       -0.01328  \n",
       "\n",
       "[5 rows x 102 columns]"
      ]
     },
     "execution_count": 9,
     "metadata": {},
     "output_type": "execute_result"
    }
   ],
   "source": [
    "results_df_2"
   ]
  },
  {
   "cell_type": "code",
   "execution_count": 10,
   "metadata": {},
   "outputs": [
    {
     "data": {
      "text/plain": [
       "array([ True,  True,  True,  True,  True,  True,  True,  True,  True,\n",
       "        True,  True,  True,  True,  True,  True,  True,  True,  True,\n",
       "        True,  True,  True,  True,  True,  True,  True,  True,  True,\n",
       "        True,  True,  True,  True,  True,  True,  True,  True,  True,\n",
       "        True,  True,  True,  True,  True,  True,  True,  True,  True,\n",
       "        True,  True,  True,  True,  True,  True,  True,  True,  True,\n",
       "        True,  True,  True,  True,  True,  True,  True,  True,  True,\n",
       "        True,  True,  True,  True,  True,  True,  True,  True,  True,\n",
       "        True,  True,  True,  True,  True,  True,  True,  True,  True,\n",
       "        True,  True,  True,  True,  True,  True,  True,  True,  True,\n",
       "        True,  True,  True,  True,  True,  True,  True,  True,  True,\n",
       "        True,  True,  True])"
      ]
     },
     "execution_count": 10,
     "metadata": {},
     "output_type": "execute_result"
    }
   ],
   "source": [
    "same_means_2"
   ]
  },
  {
   "cell_type": "markdown",
   "metadata": {},
   "source": [
    "## Random forest doesn't produce same results even after setting random state\n",
    "\n",
    "https://github.com/scikit-learn/scikit-learn/discussions/25411\n",
    "\n",
    "At times it is OS/Cloud dependent\n",
    "https://community.databricks.com/t5/data-engineering/cannot-reproduce-result-scikit-learn-random-forest/m-p/27659#M19520\n",
    "\n",
    "https://github.com/scikit-learn/scikit-learn/issues/28920"
   ]
  },
  {
   "cell_type": "code",
   "execution_count": 13,
   "metadata": {},
   "outputs": [
    {
     "name": "stdout",
     "output_type": "stream",
     "text": [
      "NumPy version: 1.22.4\n",
      "Pandas version: 1.5.3\n",
      "Scikit-learn version: 1.2.2\n"
     ]
    }
   ],
   "source": [
    "# Get versions\n",
    "import sklearn\n",
    "numpy_version = np.__version__\n",
    "pandas_version = pd.__version__\n",
    "sklearn_version = sklearn.__version__\n",
    "\n",
    "# Print versions\n",
    "print(f\"NumPy version: {numpy_version}\")\n",
    "print(f\"Pandas version: {pandas_version}\")\n",
    "print(f\"Scikit-learn version: {sklearn_version}\")"
   ]
  },
  {
   "cell_type": "code",
   "execution_count": null,
   "metadata": {},
   "outputs": [],
   "source": []
  },
  {
   "cell_type": "code",
   "execution_count": null,
   "metadata": {},
   "outputs": [],
   "source": []
  }
 ],
 "metadata": {
  "kernelspec": {
   "display_name": "Python 3",
   "language": "python",
   "name": "python3"
  },
  "language_info": {
   "codemirror_mode": {
    "name": "ipython",
    "version": 3
   },
   "file_extension": ".py",
   "mimetype": "text/x-python",
   "name": "python",
   "nbconvert_exporter": "python",
   "pygments_lexer": "ipython3",
   "version": "3.9.6"
  },
  "toc": {
   "colors": {
    "hover_highlight": "#DAA520",
    "navigate_num": "#000000",
    "navigate_text": "#333333",
    "running_highlight": "#FF0000",
    "selected_highlight": "#FFD700",
    "sidebar_border": "#EEEEEE",
    "wrapper_background": "#FFFFFF"
   },
   "moveMenuLeft": true,
   "nav_menu": {
    "height": "12px",
    "width": "252px"
   },
   "navigate_menu": true,
   "number_sections": true,
   "sideBar": true,
   "threshold": 4,
   "toc_cell": false,
   "toc_section_display": "block",
   "toc_window_display": false,
   "widenNotebook": false
  }
 },
 "nbformat": 4,
 "nbformat_minor": 2
}
