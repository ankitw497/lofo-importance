{
 "cells": [
  {
   "cell_type": "code",
   "execution_count": null,
   "metadata": {
    "ExecuteTime": {
     "end_time": "2019-01-14T12:48:04.450500Z",
     "start_time": "2019-01-14T12:48:03.586150Z"
    }
   },
   "outputs": [],
   "source": [
    "# !pip3 install scikit-learn"
   ]
  },
  {
   "cell_type": "code",
   "execution_count": null,
   "metadata": {},
   "outputs": [],
   "source": [
    "# !pip3 uninstall -y lightgbm \n",
    "# !pip3 install lightgbm"
   ]
  },
  {
   "cell_type": "code",
   "execution_count": 1,
   "metadata": {},
   "outputs": [
    {
     "name": "stderr",
     "output_type": "stream",
     "text": [
      "/Users/ankitwahane/ankitw497 github/lofo-importance/lofo/lofo_importance.py:3: TqdmExperimentalWarning: Using `tqdm.autonotebook.tqdm` in notebook mode. Use `tqdm.tqdm` instead to force console mode (e.g. in jupyter console)\n",
      "  from tqdm.autonotebook import tqdm\n"
     ]
    }
   ],
   "source": [
    "import numpy as np\n",
    "import pandas as pd\n",
    "from sklearn.datasets import make_classification\n",
    "from sklearn.preprocessing import OneHotEncoder,MinMaxScaler\n",
    "from sklearn.linear_model import LinearRegression, LogisticRegression\n",
    "from sklearn.ensemble import RandomForestClassifier\n",
    "from sklearn.model_selection import KFold\n",
    "from lofo import LOFOImportance, FLOFOImportance, Dataset, plot_importance\n",
    "from sklearn.metrics import make_scorer, f1_score\n",
    "from data.test_data import generate_test_data, generate_unstructured_test_data\n",
    "import gc"
   ]
  },
  {
   "cell_type": "code",
   "execution_count": 3,
   "metadata": {
    "ExecuteTime": {
     "end_time": "2019-01-14T12:48:04.513904Z",
     "start_time": "2019-01-14T12:48:04.453322Z"
    }
   },
   "outputs": [
    {
     "data": {
      "text/html": [
       "<div>\n",
       "<style scoped>\n",
       "    .dataframe tbody tr th:only-of-type {\n",
       "        vertical-align: middle;\n",
       "    }\n",
       "\n",
       "    .dataframe tbody tr th {\n",
       "        vertical-align: top;\n",
       "    }\n",
       "\n",
       "    .dataframe thead th {\n",
       "        text-align: right;\n",
       "    }\n",
       "</style>\n",
       "<table border=\"1\" class=\"dataframe\">\n",
       "  <thead>\n",
       "    <tr style=\"text-align: right;\">\n",
       "      <th></th>\n",
       "      <th>Age</th>\n",
       "      <th>Gender</th>\n",
       "      <th>EducationLevel</th>\n",
       "      <th>ExperienceYears</th>\n",
       "      <th>PreviousCompanies</th>\n",
       "      <th>DistanceFromCompany</th>\n",
       "      <th>InterviewScore</th>\n",
       "      <th>SkillScore</th>\n",
       "      <th>PersonalityScore</th>\n",
       "      <th>RecruitmentStrategy</th>\n",
       "      <th>HiringDecision</th>\n",
       "    </tr>\n",
       "  </thead>\n",
       "  <tbody>\n",
       "    <tr>\n",
       "      <th>0</th>\n",
       "      <td>26</td>\n",
       "      <td>1</td>\n",
       "      <td>2</td>\n",
       "      <td>0</td>\n",
       "      <td>3</td>\n",
       "      <td>26.783828</td>\n",
       "      <td>48</td>\n",
       "      <td>78</td>\n",
       "      <td>91</td>\n",
       "      <td>1</td>\n",
       "      <td>1</td>\n",
       "    </tr>\n",
       "    <tr>\n",
       "      <th>1</th>\n",
       "      <td>39</td>\n",
       "      <td>1</td>\n",
       "      <td>4</td>\n",
       "      <td>12</td>\n",
       "      <td>3</td>\n",
       "      <td>25.862694</td>\n",
       "      <td>35</td>\n",
       "      <td>68</td>\n",
       "      <td>80</td>\n",
       "      <td>2</td>\n",
       "      <td>1</td>\n",
       "    </tr>\n",
       "    <tr>\n",
       "      <th>2</th>\n",
       "      <td>48</td>\n",
       "      <td>0</td>\n",
       "      <td>2</td>\n",
       "      <td>3</td>\n",
       "      <td>2</td>\n",
       "      <td>9.920805</td>\n",
       "      <td>20</td>\n",
       "      <td>67</td>\n",
       "      <td>13</td>\n",
       "      <td>2</td>\n",
       "      <td>0</td>\n",
       "    </tr>\n",
       "    <tr>\n",
       "      <th>3</th>\n",
       "      <td>34</td>\n",
       "      <td>1</td>\n",
       "      <td>2</td>\n",
       "      <td>5</td>\n",
       "      <td>2</td>\n",
       "      <td>6.407751</td>\n",
       "      <td>36</td>\n",
       "      <td>27</td>\n",
       "      <td>70</td>\n",
       "      <td>3</td>\n",
       "      <td>0</td>\n",
       "    </tr>\n",
       "    <tr>\n",
       "      <th>4</th>\n",
       "      <td>30</td>\n",
       "      <td>0</td>\n",
       "      <td>1</td>\n",
       "      <td>6</td>\n",
       "      <td>1</td>\n",
       "      <td>43.105343</td>\n",
       "      <td>23</td>\n",
       "      <td>52</td>\n",
       "      <td>85</td>\n",
       "      <td>2</td>\n",
       "      <td>0</td>\n",
       "    </tr>\n",
       "  </tbody>\n",
       "</table>\n",
       "</div>"
      ],
      "text/plain": [
       "   Age  Gender  EducationLevel  ExperienceYears  PreviousCompanies  \\\n",
       "0   26       1               2                0                  3   \n",
       "1   39       1               4               12                  3   \n",
       "2   48       0               2                3                  2   \n",
       "3   34       1               2                5                  2   \n",
       "4   30       0               1                6                  1   \n",
       "\n",
       "   DistanceFromCompany  InterviewScore  SkillScore  PersonalityScore  \\\n",
       "0            26.783828              48          78                91   \n",
       "1            25.862694              35          68                80   \n",
       "2             9.920805              20          67                13   \n",
       "3             6.407751              36          27                70   \n",
       "4            43.105343              23          52                85   \n",
       "\n",
       "   RecruitmentStrategy  HiringDecision  \n",
       "0                    1               1  \n",
       "1                    2               1  \n",
       "2                    2               0  \n",
       "3                    3               0  \n",
       "4                    2               0  "
      ]
     },
     "execution_count": 3,
     "metadata": {},
     "output_type": "execute_result"
    }
   ],
   "source": [
    "np.random.seed(42)\n",
    "\n",
    "df = pd.read_csv(\"recruitment_data.csv\")\n",
    "\n",
    "df.head()"
   ]
  },
  {
   "cell_type": "code",
   "execution_count": 5,
   "metadata": {},
   "outputs": [
    {
     "data": {
      "text/plain": [
       "Index(['Age', 'Gender', 'EducationLevel', 'ExperienceYears',\n",
       "       'PreviousCompanies', 'DistanceFromCompany', 'InterviewScore',\n",
       "       'SkillScore', 'PersonalityScore', 'RecruitmentStrategy',\n",
       "       'HiringDecision'],\n",
       "      dtype='object')"
      ]
     },
     "execution_count": 5,
     "metadata": {},
     "output_type": "execute_result"
    }
   ],
   "source": [
    "df.columns"
   ]
  },
  {
   "cell_type": "markdown",
   "metadata": {},
   "source": [
    "### Running on Logistic Regression"
   ]
  },
  {
   "cell_type": "code",
   "execution_count": 6,
   "metadata": {},
   "outputs": [],
   "source": [
    "# Define the function\n",
    "def run_importance_calculations(df, target, features, model_name ,n_runs=1000):\n",
    "    scorer = make_scorer(f1_score, pos_label=1)\n",
    "    # cv = KFold(n_splits=4, shuffle=True, random_state=0)\n",
    "    cv = 4\n",
    "    dataset = Dataset(df=df, target=target, features=features)\n",
    "    importance_means = []\n",
    "\n",
    "    for _ in range(n_runs):\n",
    "        fi = LOFOImportance(dataset, scoring=scorer, model=model_name, cv=cv)\n",
    "        importances = fi.get_importance()\n",
    "        importance_means.append(importances['importance_mean'].values)\n",
    "        del fi\n",
    "        gc.collect()\n",
    "\n",
    "    importance_means = np.array(importance_means)\n",
    "    \n",
    "    # Check if the same importance mean for each feature was generated\n",
    "    same_means = np.all(importance_means == importance_means[0], axis=0)\n",
    "\n",
    "    # Convert results to a DataFrame for better visualization\n",
    "    results_df = pd.DataFrame(importance_means, columns=features)\n",
    "    \n",
    "    return results_df,same_means"
   ]
  },
  {
   "cell_type": "code",
   "execution_count": 7,
   "metadata": {},
   "outputs": [
    {
     "data": {
      "application/vnd.jupyter.widget-view+json": {
       "model_id": "93b8d1d94e9943e7bc27d0d24ab3b8d8",
       "version_major": 2,
       "version_minor": 0
      },
      "text/plain": [
       "  0%|          | 0/10 [00:00<?, ?it/s]"
      ]
     },
     "metadata": {},
     "output_type": "display_data"
    },
    {
     "data": {
      "application/vnd.jupyter.widget-view+json": {
       "model_id": "ca6e8cf627124eec96b2e7206f69cfc8",
       "version_major": 2,
       "version_minor": 0
      },
      "text/plain": [
       "  0%|          | 0/10 [00:00<?, ?it/s]"
      ]
     },
     "metadata": {},
     "output_type": "display_data"
    },
    {
     "data": {
      "application/vnd.jupyter.widget-view+json": {
       "model_id": "f19f01b0a64845b5878c21ecaf29ae76",
       "version_major": 2,
       "version_minor": 0
      },
      "text/plain": [
       "  0%|          | 0/10 [00:00<?, ?it/s]"
      ]
     },
     "metadata": {},
     "output_type": "display_data"
    },
    {
     "data": {
      "application/vnd.jupyter.widget-view+json": {
       "model_id": "cefd227a3c01420085cb5caaaf998377",
       "version_major": 2,
       "version_minor": 0
      },
      "text/plain": [
       "  0%|          | 0/10 [00:00<?, ?it/s]"
      ]
     },
     "metadata": {},
     "output_type": "display_data"
    },
    {
     "data": {
      "application/vnd.jupyter.widget-view+json": {
       "model_id": "44b3992c045b4ea59d752ef1a8df4f13",
       "version_major": 2,
       "version_minor": 0
      },
      "text/plain": [
       "  0%|          | 0/10 [00:00<?, ?it/s]"
      ]
     },
     "metadata": {},
     "output_type": "display_data"
    }
   ],
   "source": [
    "results_df,same_means = run_importance_calculations(df=df,\n",
    "                                                    target='HiringDecision',\n",
    "                                                    features=[x for x in df.columns if x != 'HiringDecision'],\n",
    "                                                    model_name =LogisticRegression(),\n",
    "                                                    n_runs=5)"
   ]
  },
  {
   "cell_type": "code",
   "execution_count": 8,
   "metadata": {},
   "outputs": [
    {
     "data": {
      "text/html": [
       "<div>\n",
       "<style scoped>\n",
       "    .dataframe tbody tr th:only-of-type {\n",
       "        vertical-align: middle;\n",
       "    }\n",
       "\n",
       "    .dataframe tbody tr th {\n",
       "        vertical-align: top;\n",
       "    }\n",
       "\n",
       "    .dataframe thead th {\n",
       "        text-align: right;\n",
       "    }\n",
       "</style>\n",
       "<table border=\"1\" class=\"dataframe\">\n",
       "  <thead>\n",
       "    <tr style=\"text-align: right;\">\n",
       "      <th></th>\n",
       "      <th>Age</th>\n",
       "      <th>Gender</th>\n",
       "      <th>EducationLevel</th>\n",
       "      <th>ExperienceYears</th>\n",
       "      <th>PreviousCompanies</th>\n",
       "      <th>DistanceFromCompany</th>\n",
       "      <th>InterviewScore</th>\n",
       "      <th>SkillScore</th>\n",
       "      <th>PersonalityScore</th>\n",
       "      <th>RecruitmentStrategy</th>\n",
       "    </tr>\n",
       "  </thead>\n",
       "  <tbody>\n",
       "    <tr>\n",
       "      <th>0</th>\n",
       "      <td>0.315375</td>\n",
       "      <td>0.068724</td>\n",
       "      <td>0.044524</td>\n",
       "      <td>0.039634</td>\n",
       "      <td>0.037683</td>\n",
       "      <td>0.029929</td>\n",
       "      <td>0.020929</td>\n",
       "      <td>0.012507</td>\n",
       "      <td>0.012432</td>\n",
       "      <td>0.00135</td>\n",
       "    </tr>\n",
       "    <tr>\n",
       "      <th>1</th>\n",
       "      <td>0.315375</td>\n",
       "      <td>0.068724</td>\n",
       "      <td>0.044524</td>\n",
       "      <td>0.039634</td>\n",
       "      <td>0.037683</td>\n",
       "      <td>0.029929</td>\n",
       "      <td>0.020929</td>\n",
       "      <td>0.012507</td>\n",
       "      <td>0.012432</td>\n",
       "      <td>0.00135</td>\n",
       "    </tr>\n",
       "    <tr>\n",
       "      <th>2</th>\n",
       "      <td>0.315375</td>\n",
       "      <td>0.068724</td>\n",
       "      <td>0.044524</td>\n",
       "      <td>0.039634</td>\n",
       "      <td>0.037683</td>\n",
       "      <td>0.029929</td>\n",
       "      <td>0.020929</td>\n",
       "      <td>0.012507</td>\n",
       "      <td>0.012432</td>\n",
       "      <td>0.00135</td>\n",
       "    </tr>\n",
       "    <tr>\n",
       "      <th>3</th>\n",
       "      <td>0.315375</td>\n",
       "      <td>0.068724</td>\n",
       "      <td>0.044524</td>\n",
       "      <td>0.039634</td>\n",
       "      <td>0.037683</td>\n",
       "      <td>0.029929</td>\n",
       "      <td>0.020929</td>\n",
       "      <td>0.012507</td>\n",
       "      <td>0.012432</td>\n",
       "      <td>0.00135</td>\n",
       "    </tr>\n",
       "    <tr>\n",
       "      <th>4</th>\n",
       "      <td>0.315375</td>\n",
       "      <td>0.068724</td>\n",
       "      <td>0.044524</td>\n",
       "      <td>0.039634</td>\n",
       "      <td>0.037683</td>\n",
       "      <td>0.029929</td>\n",
       "      <td>0.020929</td>\n",
       "      <td>0.012507</td>\n",
       "      <td>0.012432</td>\n",
       "      <td>0.00135</td>\n",
       "    </tr>\n",
       "  </tbody>\n",
       "</table>\n",
       "</div>"
      ],
      "text/plain": [
       "        Age    Gender  EducationLevel  ExperienceYears  PreviousCompanies  \\\n",
       "0  0.315375  0.068724        0.044524         0.039634           0.037683   \n",
       "1  0.315375  0.068724        0.044524         0.039634           0.037683   \n",
       "2  0.315375  0.068724        0.044524         0.039634           0.037683   \n",
       "3  0.315375  0.068724        0.044524         0.039634           0.037683   \n",
       "4  0.315375  0.068724        0.044524         0.039634           0.037683   \n",
       "\n",
       "   DistanceFromCompany  InterviewScore  SkillScore  PersonalityScore  \\\n",
       "0             0.029929        0.020929    0.012507          0.012432   \n",
       "1             0.029929        0.020929    0.012507          0.012432   \n",
       "2             0.029929        0.020929    0.012507          0.012432   \n",
       "3             0.029929        0.020929    0.012507          0.012432   \n",
       "4             0.029929        0.020929    0.012507          0.012432   \n",
       "\n",
       "   RecruitmentStrategy  \n",
       "0              0.00135  \n",
       "1              0.00135  \n",
       "2              0.00135  \n",
       "3              0.00135  \n",
       "4              0.00135  "
      ]
     },
     "execution_count": 8,
     "metadata": {},
     "output_type": "execute_result"
    }
   ],
   "source": [
    "results_df"
   ]
  },
  {
   "cell_type": "code",
   "execution_count": 9,
   "metadata": {},
   "outputs": [
    {
     "data": {
      "text/plain": [
       "array([ True,  True,  True,  True,  True,  True,  True,  True,  True,\n",
       "        True])"
      ]
     },
     "execution_count": 9,
     "metadata": {},
     "output_type": "execute_result"
    }
   ],
   "source": [
    "same_means"
   ]
  },
  {
   "cell_type": "code",
   "execution_count": 10,
   "metadata": {},
   "outputs": [
    {
     "data": {
      "application/vnd.jupyter.widget-view+json": {
       "model_id": "e418648868b347658f9d04d1375936b0",
       "version_major": 2,
       "version_minor": 0
      },
      "text/plain": [
       "  0%|          | 0/10 [00:00<?, ?it/s]"
      ]
     },
     "metadata": {},
     "output_type": "display_data"
    },
    {
     "data": {
      "application/vnd.jupyter.widget-view+json": {
       "model_id": "f8e56e688a5548fb870a12b56131713c",
       "version_major": 2,
       "version_minor": 0
      },
      "text/plain": [
       "  0%|          | 0/10 [00:00<?, ?it/s]"
      ]
     },
     "metadata": {},
     "output_type": "display_data"
    },
    {
     "data": {
      "application/vnd.jupyter.widget-view+json": {
       "model_id": "a356a4fb8037468790c7060e5c2978f6",
       "version_major": 2,
       "version_minor": 0
      },
      "text/plain": [
       "  0%|          | 0/10 [00:00<?, ?it/s]"
      ]
     },
     "metadata": {},
     "output_type": "display_data"
    },
    {
     "data": {
      "application/vnd.jupyter.widget-view+json": {
       "model_id": "cf32d98040dd451d91d10429508888e0",
       "version_major": 2,
       "version_minor": 0
      },
      "text/plain": [
       "  0%|          | 0/10 [00:00<?, ?it/s]"
      ]
     },
     "metadata": {},
     "output_type": "display_data"
    },
    {
     "data": {
      "application/vnd.jupyter.widget-view+json": {
       "model_id": "0874a6273b5641539c0cdcb79fdd652c",
       "version_major": 2,
       "version_minor": 0
      },
      "text/plain": [
       "  0%|          | 0/10 [00:00<?, ?it/s]"
      ]
     },
     "metadata": {},
     "output_type": "display_data"
    }
   ],
   "source": [
    "results_df_2,same_means_2 = run_importance_calculations(df=df,\n",
    "                                                        target='HiringDecision',\n",
    "                                                        features=[x for x in df.columns if x != 'HiringDecision'],\n",
    "                                                        model_name =RandomForestClassifier(n_estimators=50,random_state=42),\n",
    "                                                        n_runs=5)"
   ]
  },
  {
   "cell_type": "code",
   "execution_count": 11,
   "metadata": {},
   "outputs": [
    {
     "data": {
      "text/html": [
       "<div>\n",
       "<style scoped>\n",
       "    .dataframe tbody tr th:only-of-type {\n",
       "        vertical-align: middle;\n",
       "    }\n",
       "\n",
       "    .dataframe tbody tr th {\n",
       "        vertical-align: top;\n",
       "    }\n",
       "\n",
       "    .dataframe thead th {\n",
       "        text-align: right;\n",
       "    }\n",
       "</style>\n",
       "<table border=\"1\" class=\"dataframe\">\n",
       "  <thead>\n",
       "    <tr style=\"text-align: right;\">\n",
       "      <th></th>\n",
       "      <th>Age</th>\n",
       "      <th>Gender</th>\n",
       "      <th>EducationLevel</th>\n",
       "      <th>ExperienceYears</th>\n",
       "      <th>PreviousCompanies</th>\n",
       "      <th>DistanceFromCompany</th>\n",
       "      <th>InterviewScore</th>\n",
       "      <th>SkillScore</th>\n",
       "      <th>PersonalityScore</th>\n",
       "      <th>RecruitmentStrategy</th>\n",
       "    </tr>\n",
       "  </thead>\n",
       "  <tbody>\n",
       "    <tr>\n",
       "      <th>0</th>\n",
       "      <td>0.396292</td>\n",
       "      <td>0.123195</td>\n",
       "      <td>0.110842</td>\n",
       "      <td>0.097286</td>\n",
       "      <td>0.083138</td>\n",
       "      <td>0.073661</td>\n",
       "      <td>0.004828</td>\n",
       "      <td>-0.002192</td>\n",
       "      <td>-0.00457</td>\n",
       "      <td>-0.008342</td>\n",
       "    </tr>\n",
       "    <tr>\n",
       "      <th>1</th>\n",
       "      <td>0.396292</td>\n",
       "      <td>0.123195</td>\n",
       "      <td>0.110842</td>\n",
       "      <td>0.097286</td>\n",
       "      <td>0.083138</td>\n",
       "      <td>0.073661</td>\n",
       "      <td>0.004828</td>\n",
       "      <td>-0.002192</td>\n",
       "      <td>-0.00457</td>\n",
       "      <td>-0.008342</td>\n",
       "    </tr>\n",
       "    <tr>\n",
       "      <th>2</th>\n",
       "      <td>0.396292</td>\n",
       "      <td>0.123195</td>\n",
       "      <td>0.110842</td>\n",
       "      <td>0.097286</td>\n",
       "      <td>0.083138</td>\n",
       "      <td>0.073661</td>\n",
       "      <td>0.004828</td>\n",
       "      <td>-0.002192</td>\n",
       "      <td>-0.00457</td>\n",
       "      <td>-0.008342</td>\n",
       "    </tr>\n",
       "    <tr>\n",
       "      <th>3</th>\n",
       "      <td>0.396292</td>\n",
       "      <td>0.123195</td>\n",
       "      <td>0.110842</td>\n",
       "      <td>0.097286</td>\n",
       "      <td>0.083138</td>\n",
       "      <td>0.073661</td>\n",
       "      <td>0.004828</td>\n",
       "      <td>-0.002192</td>\n",
       "      <td>-0.00457</td>\n",
       "      <td>-0.008342</td>\n",
       "    </tr>\n",
       "    <tr>\n",
       "      <th>4</th>\n",
       "      <td>0.396292</td>\n",
       "      <td>0.123195</td>\n",
       "      <td>0.110842</td>\n",
       "      <td>0.097286</td>\n",
       "      <td>0.083138</td>\n",
       "      <td>0.073661</td>\n",
       "      <td>0.004828</td>\n",
       "      <td>-0.002192</td>\n",
       "      <td>-0.00457</td>\n",
       "      <td>-0.008342</td>\n",
       "    </tr>\n",
       "  </tbody>\n",
       "</table>\n",
       "</div>"
      ],
      "text/plain": [
       "        Age    Gender  EducationLevel  ExperienceYears  PreviousCompanies  \\\n",
       "0  0.396292  0.123195        0.110842         0.097286           0.083138   \n",
       "1  0.396292  0.123195        0.110842         0.097286           0.083138   \n",
       "2  0.396292  0.123195        0.110842         0.097286           0.083138   \n",
       "3  0.396292  0.123195        0.110842         0.097286           0.083138   \n",
       "4  0.396292  0.123195        0.110842         0.097286           0.083138   \n",
       "\n",
       "   DistanceFromCompany  InterviewScore  SkillScore  PersonalityScore  \\\n",
       "0             0.073661        0.004828   -0.002192          -0.00457   \n",
       "1             0.073661        0.004828   -0.002192          -0.00457   \n",
       "2             0.073661        0.004828   -0.002192          -0.00457   \n",
       "3             0.073661        0.004828   -0.002192          -0.00457   \n",
       "4             0.073661        0.004828   -0.002192          -0.00457   \n",
       "\n",
       "   RecruitmentStrategy  \n",
       "0            -0.008342  \n",
       "1            -0.008342  \n",
       "2            -0.008342  \n",
       "3            -0.008342  \n",
       "4            -0.008342  "
      ]
     },
     "execution_count": 11,
     "metadata": {},
     "output_type": "execute_result"
    }
   ],
   "source": [
    "results_df_2"
   ]
  },
  {
   "cell_type": "code",
   "execution_count": 12,
   "metadata": {},
   "outputs": [
    {
     "data": {
      "text/plain": [
       "array([ True,  True,  True,  True,  True,  True,  True,  True,  True,\n",
       "        True])"
      ]
     },
     "execution_count": 12,
     "metadata": {},
     "output_type": "execute_result"
    }
   ],
   "source": [
    "same_means_2"
   ]
  },
  {
   "cell_type": "markdown",
   "metadata": {},
   "source": [
    "## Random forest doesn't produce same results even after setting random state\n",
    "\n",
    "https://github.com/scikit-learn/scikit-learn/discussions/25411\n",
    "\n",
    "At times it is OS/Cloud dependent\n",
    "https://community.databricks.com/t5/data-engineering/cannot-reproduce-result-scikit-learn-random-forest/m-p/27659#M19520\n",
    "\n",
    "https://github.com/scikit-learn/scikit-learn/issues/28920"
   ]
  },
  {
   "cell_type": "code",
   "execution_count": null,
   "metadata": {},
   "outputs": [],
   "source": []
  },
  {
   "cell_type": "code",
   "execution_count": null,
   "metadata": {},
   "outputs": [],
   "source": []
  }
 ],
 "metadata": {
  "kernelspec": {
   "display_name": "Python 3",
   "language": "python",
   "name": "python3"
  },
  "language_info": {
   "codemirror_mode": {
    "name": "ipython",
    "version": 3
   },
   "file_extension": ".py",
   "mimetype": "text/x-python",
   "name": "python",
   "nbconvert_exporter": "python",
   "pygments_lexer": "ipython3",
   "version": "3.9.6"
  },
  "toc": {
   "colors": {
    "hover_highlight": "#DAA520",
    "navigate_num": "#000000",
    "navigate_text": "#333333",
    "running_highlight": "#FF0000",
    "selected_highlight": "#FFD700",
    "sidebar_border": "#EEEEEE",
    "wrapper_background": "#FFFFFF"
   },
   "moveMenuLeft": true,
   "nav_menu": {
    "height": "12px",
    "width": "252px"
   },
   "navigate_menu": true,
   "number_sections": true,
   "sideBar": true,
   "threshold": 4,
   "toc_cell": false,
   "toc_section_display": "block",
   "toc_window_display": false,
   "widenNotebook": false
  }
 },
 "nbformat": 4,
 "nbformat_minor": 2
}
